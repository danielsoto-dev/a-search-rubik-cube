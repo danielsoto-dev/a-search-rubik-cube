{
  "nbformat": 4,
  "nbformat_minor": 0,
  "metadata": {
    "colab": {
      "name": "Rubik Cube A Search.ipynb",
      "provenance": [],
      "authorship_tag": "ABX9TyOMM4A/wMBCFO97/aWtV7eS",
      "include_colab_link": true
    },
    "kernelspec": {
      "name": "python3",
      "display_name": "Python 3"
    },
    "language_info": {
      "name": "python"
    }
  },
  "cells": [
    {
      "cell_type": "markdown",
      "metadata": {
        "id": "view-in-github",
        "colab_type": "text"
      },
      "source": [
        "<a href=\"https://colab.research.google.com/github/danielsoto-dev/a-search-rubik-cube/blob/main/Rubik_Cube_A_Search.ipynb\" target=\"_parent\"><img src=\"https://colab.research.google.com/assets/colab-badge.svg\" alt=\"Open In Colab\"/></a>"
      ]
    },
    {
      "cell_type": "code",
      "execution_count": null,
      "metadata": {
        "colab": {
          "base_uri": "https://localhost:8080/"
        },
        "id": "VYhF1l95HTVX",
        "outputId": "788b356d-3e8b-4076-e879-aa93b611c8cf"
      },
      "outputs": [
        {
          "output_type": "stream",
          "name": "stdout",
          "text": [
            "[array([[0, 0, 0],\n",
            "       [0, 0, 0],\n",
            "       [0, 0, 0]]), array([[1, 1, 1],\n",
            "       [1, 1, 1],\n",
            "       [1, 1, 1]]), array([[2, 2, 2],\n",
            "       [2, 2, 2],\n",
            "       [2, 2, 2]]), array([[3, 3, 3],\n",
            "       [3, 3, 3],\n",
            "       [3, 3, 3]]), array([[4, 4, 4],\n",
            "       [4, 4, 4],\n",
            "       [4, 4, 4]]), array([[5, 5, 5],\n",
            "       [5, 5, 5],\n",
            "       [5, 5, 5]])]\n",
            "[array([[1, 1, 1],\n",
            "       [0, 0, 0],\n",
            "       [0, 0, 0]]), array([[2, 2, 2],\n",
            "       [1, 1, 1],\n",
            "       [1, 1, 1]]), array([[3, 3, 3],\n",
            "       [2, 2, 2],\n",
            "       [2, 2, 2]]), array([[0, 0, 0],\n",
            "       [3, 3, 3],\n",
            "       [3, 3, 3]]), array([[4, 4, 4],\n",
            "       [4, 4, 4],\n",
            "       [4, 4, 4]]), array([[5, 5, 5],\n",
            "       [5, 5, 5],\n",
            "       [5, 5, 5]])]\n",
            "['==========', '==========', '==========', '==========', '==========', '==========', '==========', '==========', '==========', '==========', '==========', '==========', '==========', '==========', '==========', '==========', '==========', '==========', '==========', '==========', '==========', '==========', '==========']\n",
            "[array([[1, 1, 1],\n",
            "       [0, 0, 0],\n",
            "       [0, 0, 0]]), array([[2, 2, 2],\n",
            "       [1, 1, 1],\n",
            "       [1, 1, 1]]), array([[3, 3, 3],\n",
            "       [2, 2, 2],\n",
            "       [2, 2, 2]]), array([[0, 0, 0],\n",
            "       [3, 3, 3],\n",
            "       [3, 3, 3]]), array([[4, 4, 4],\n",
            "       [4, 4, 4],\n",
            "       [4, 4, 4]]), array([[5, 5, 5],\n",
            "       [5, 5, 5],\n",
            "       [5, 5, 5]])]\n",
            "[array([[0, 0, 0],\n",
            "       [0, 0, 0],\n",
            "       [0, 0, 0]]), array([[1, 1, 1],\n",
            "       [1, 1, 1],\n",
            "       [1, 1, 1]]), array([[2, 2, 2],\n",
            "       [2, 2, 2],\n",
            "       [2, 2, 2]]), array([[3, 3, 3],\n",
            "       [3, 3, 3],\n",
            "       [3, 3, 3]]), array([[4, 4, 4],\n",
            "       [4, 4, 4],\n",
            "       [4, 4, 4]]), array([[5, 5, 5],\n",
            "       [5, 5, 5],\n",
            "       [5, 5, 5]])]\n"
          ]
        }
      ],
      "source": [
        "import numpy as np\n",
        "\n",
        "\n",
        "F = np.array([[0,0,0],[0,0,0],[0,0,0]])\n",
        "R = F + 1\n",
        "B = F + 2\n",
        "L = F + 3\n",
        "U = F + 4\n",
        "D = F + 5\n",
        "\n",
        "rubik = [F,R,B,L,U,D]\n",
        "print(rubik)\n",
        "def upper_rot_reverse(rubik):\n",
        "  F = rubik[0][0].copy()\n",
        "  L = rubik[3][0].copy()\n",
        "  B = rubik[2][0].copy()\n",
        "  R = rubik[1][0].copy()\n",
        "  # F <- L\n",
        "  rubik[0][0] = L\n",
        "  # L <- B\n",
        "  rubik[3][0] = B\n",
        "  # B <- R\n",
        "  rubik[2][0] = R\n",
        "  # R <- F\n",
        "  rubik[1][0] = F\n",
        "  return rubik\n",
        "def upper_rot(rubik):\n",
        "  F = rubik[0][0].copy()\n",
        "  L = rubik[3][0].copy()\n",
        "  B = rubik[2][0].copy()\n",
        "  R = rubik[1][0].copy()\n",
        "  # F <- R\n",
        "  rubik[0][0] = R\n",
        "  # L <- F\n",
        "  rubik[3][0] = F\n",
        "  # B <- L\n",
        "  rubik[2][0] = L\n",
        "  # R <- B\n",
        "  rubik[1][0] = B\n",
        "  return rubik\n",
        "rubik = upper_rot(rubik)\n",
        "print(rubik)\n",
        "print(['==========']*23)\n",
        "print(rubik)\n",
        "print(upper_rot_reverse(rubik))"
      ]
    }
  ]
}